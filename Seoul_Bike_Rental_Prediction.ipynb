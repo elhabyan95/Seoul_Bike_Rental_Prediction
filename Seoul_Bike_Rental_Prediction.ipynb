{
  "nbformat": 4,
  "nbformat_minor": 0,
  "metadata": {
    "kernelspec": {
      "language": "python",
      "display_name": "Python 3",
      "name": "python3"
    },
    "language_info": {
      "pygments_lexer": "ipython3",
      "nbconvert_exporter": "python",
      "version": "3.6.4",
      "file_extension": ".py",
      "codemirror_mode": {
        "name": "ipython",
        "version": 3
      },
      "name": "python",
      "mimetype": "text/x-python"
    },
    "colab": {
      "name": "Seoul Bike Rental Prediction.ipynb",
      "provenance": []
    }
  },
  "cells": [
    {
      "cell_type": "code",
      "metadata": {
        "_uuid": "8f2839f25d086af736a60e9eeb907d3b93b6e0e5",
        "_cell_guid": "b1076dfc-b9ad-4769-8c92-a6c4dae69d19",
        "execution": {
          "iopub.status.busy": "2021-08-28T22:49:04.640865Z",
          "iopub.execute_input": "2021-08-28T22:49:04.641232Z",
          "iopub.status.idle": "2021-08-28T22:49:04.65244Z",
          "shell.execute_reply.started": "2021-08-28T22:49:04.641199Z",
          "shell.execute_reply": "2021-08-28T22:49:04.65122Z"
        },
        "trusted": true,
        "id": "Lh7XNNhN8tCx"
      },
      "source": [
        "import numpy as np # linear algebra\n",
        "import pandas as pd # data processing, CSV file I/O (e.g. pd.read_csv)\n",
        "from pandas import plotting\n",
        "\n",
        "from matplotlib.pyplot import boxplot\n",
        "import seaborn as sns\n",
        "from xgboost import XGBRegressor\n",
        "from sklearn.metrics import mean_squared_log_error \n",
        "from sklearn.model_selection import GridSearchCV\n",
        "\n",
        "\n",
        "# for visualizations\n",
        "import matplotlib.pyplot as plt\n",
        "import seaborn as sns\n",
        "plt.style.use('fivethirtyeight')\n"
      ],
      "execution_count": 11,
      "outputs": []
    },
    {
      "cell_type": "markdown",
      "metadata": {
        "execution": {
          "iopub.status.busy": "2021-07-31T22:39:48.516461Z",
          "iopub.execute_input": "2021-07-31T22:39:48.516812Z",
          "iopub.status.idle": "2021-07-31T22:39:48.520943Z",
          "shell.execute_reply.started": "2021-07-31T22:39:48.516783Z",
          "shell.execute_reply": "2021-07-31T22:39:48.519853Z"
        },
        "id": "fqq7z_2C8tC3"
      },
      "source": [
        "### Exploratory Data Analysis¶\n"
      ]
    },
    {
      "cell_type": "code",
      "metadata": {
        "execution": {
          "iopub.status.busy": "2021-08-28T22:49:04.656773Z",
          "iopub.execute_input": "2021-08-28T22:49:04.657119Z",
          "iopub.status.idle": "2021-08-28T22:49:04.706284Z",
          "shell.execute_reply.started": "2021-08-28T22:49:04.65709Z",
          "shell.execute_reply": "2021-08-28T22:49:04.705383Z"
        },
        "trusted": true,
        "colab": {
          "base_uri": "https://localhost:8080/",
          "height": 401
        },
        "id": "uIzehPfZ8tC6",
        "outputId": "1a1ce139-d9e7-494d-e5a1-4fd516bb0e8c"
      },
      "source": [
        "\n",
        "df = pd.read_csv('train.csv')\n",
        "test_df = pd.read_csv('test.csv')\n",
        "X_test = test_df.drop(columns=['ID'])\n",
        "\n",
        "\n",
        "print(\"The shape of the dataset is {}.\\n\\n\".format(df.shape))\n",
        "\n",
        "df.head()"
      ],
      "execution_count": 12,
      "outputs": [
        {
          "output_type": "stream",
          "name": "stdout",
          "text": [
            "The shape of the dataset is (5760, 15).\n",
            "\n",
            "\n"
          ]
        },
        {
          "output_type": "execute_result",
          "data": {
            "text/html": [
              "<div>\n",
              "<style scoped>\n",
              "    .dataframe tbody tr th:only-of-type {\n",
              "        vertical-align: middle;\n",
              "    }\n",
              "\n",
              "    .dataframe tbody tr th {\n",
              "        vertical-align: top;\n",
              "    }\n",
              "\n",
              "    .dataframe thead th {\n",
              "        text-align: right;\n",
              "    }\n",
              "</style>\n",
              "<table border=\"1\" class=\"dataframe\">\n",
              "  <thead>\n",
              "    <tr style=\"text-align: right;\">\n",
              "      <th></th>\n",
              "      <th>ID</th>\n",
              "      <th>Date</th>\n",
              "      <th>y</th>\n",
              "      <th>Hour</th>\n",
              "      <th>Temperature(�C)</th>\n",
              "      <th>Humidity(%)</th>\n",
              "      <th>Wind speed (m/s)</th>\n",
              "      <th>Visibility (10m)</th>\n",
              "      <th>Dew point temperature(�C)</th>\n",
              "      <th>Solar Radiation (MJ/m2)</th>\n",
              "      <th>Rainfall(mm)</th>\n",
              "      <th>Snowfall (cm)</th>\n",
              "      <th>Seasons</th>\n",
              "      <th>Holiday</th>\n",
              "      <th>Functioning Day</th>\n",
              "    </tr>\n",
              "  </thead>\n",
              "  <tbody>\n",
              "    <tr>\n",
              "      <th>0</th>\n",
              "      <td>0</td>\n",
              "      <td>01/12/2017</td>\n",
              "      <td>254</td>\n",
              "      <td>0</td>\n",
              "      <td>-5.2</td>\n",
              "      <td>37</td>\n",
              "      <td>2.2</td>\n",
              "      <td>2000</td>\n",
              "      <td>-17.6</td>\n",
              "      <td>0.0</td>\n",
              "      <td>0.0</td>\n",
              "      <td>0.0</td>\n",
              "      <td>Winter</td>\n",
              "      <td>No Holiday</td>\n",
              "      <td>Yes</td>\n",
              "    </tr>\n",
              "    <tr>\n",
              "      <th>1</th>\n",
              "      <td>1</td>\n",
              "      <td>01/12/2017</td>\n",
              "      <td>204</td>\n",
              "      <td>1</td>\n",
              "      <td>-5.5</td>\n",
              "      <td>38</td>\n",
              "      <td>0.8</td>\n",
              "      <td>2000</td>\n",
              "      <td>-17.6</td>\n",
              "      <td>0.0</td>\n",
              "      <td>0.0</td>\n",
              "      <td>0.0</td>\n",
              "      <td>Winter</td>\n",
              "      <td>No Holiday</td>\n",
              "      <td>Yes</td>\n",
              "    </tr>\n",
              "    <tr>\n",
              "      <th>2</th>\n",
              "      <td>2</td>\n",
              "      <td>01/12/2017</td>\n",
              "      <td>173</td>\n",
              "      <td>2</td>\n",
              "      <td>-6.0</td>\n",
              "      <td>39</td>\n",
              "      <td>1.0</td>\n",
              "      <td>2000</td>\n",
              "      <td>-17.7</td>\n",
              "      <td>0.0</td>\n",
              "      <td>0.0</td>\n",
              "      <td>0.0</td>\n",
              "      <td>Winter</td>\n",
              "      <td>No Holiday</td>\n",
              "      <td>Yes</td>\n",
              "    </tr>\n",
              "    <tr>\n",
              "      <th>3</th>\n",
              "      <td>3</td>\n",
              "      <td>01/12/2017</td>\n",
              "      <td>107</td>\n",
              "      <td>3</td>\n",
              "      <td>-6.2</td>\n",
              "      <td>40</td>\n",
              "      <td>0.9</td>\n",
              "      <td>2000</td>\n",
              "      <td>-17.6</td>\n",
              "      <td>0.0</td>\n",
              "      <td>0.0</td>\n",
              "      <td>0.0</td>\n",
              "      <td>Winter</td>\n",
              "      <td>No Holiday</td>\n",
              "      <td>Yes</td>\n",
              "    </tr>\n",
              "    <tr>\n",
              "      <th>4</th>\n",
              "      <td>4</td>\n",
              "      <td>01/12/2017</td>\n",
              "      <td>78</td>\n",
              "      <td>4</td>\n",
              "      <td>-6.0</td>\n",
              "      <td>36</td>\n",
              "      <td>2.3</td>\n",
              "      <td>2000</td>\n",
              "      <td>-18.6</td>\n",
              "      <td>0.0</td>\n",
              "      <td>0.0</td>\n",
              "      <td>0.0</td>\n",
              "      <td>Winter</td>\n",
              "      <td>No Holiday</td>\n",
              "      <td>Yes</td>\n",
              "    </tr>\n",
              "  </tbody>\n",
              "</table>\n",
              "</div>"
            ],
            "text/plain": [
              "   ID        Date    y  Hour  ...  Snowfall (cm)  Seasons     Holiday  Functioning Day\n",
              "0   0  01/12/2017  254     0  ...            0.0   Winter  No Holiday              Yes\n",
              "1   1  01/12/2017  204     1  ...            0.0   Winter  No Holiday              Yes\n",
              "2   2  01/12/2017  173     2  ...            0.0   Winter  No Holiday              Yes\n",
              "3   3  01/12/2017  107     3  ...            0.0   Winter  No Holiday              Yes\n",
              "4   4  01/12/2017   78     4  ...            0.0   Winter  No Holiday              Yes\n",
              "\n",
              "[5 rows x 15 columns]"
            ]
          },
          "metadata": {},
          "execution_count": 12
        }
      ]
    },
    {
      "cell_type": "code",
      "metadata": {
        "execution": {
          "iopub.status.busy": "2021-08-28T22:49:04.707845Z",
          "iopub.execute_input": "2021-08-28T22:49:04.708179Z",
          "iopub.status.idle": "2021-08-28T22:49:08.635486Z",
          "shell.execute_reply.started": "2021-08-28T22:49:04.708132Z",
          "shell.execute_reply": "2021-08-28T22:49:08.634666Z"
        },
        "trusted": true,
        "colab": {
          "base_uri": "https://localhost:8080/"
        },
        "id": "ASTP1KGg8tC7",
        "outputId": "d58e19a8-d190-4df2-a399-1491d4e30c45"
      },
      "source": [
        "df.drop(columns='ID').drop_duplicates()\n",
        "\n",
        "\n",
        "df[['Day','Month','Year']] = df.Date.str.split(\"/\",expand=True)\n",
        "df['Day'] = df['Day'].astype('int64')\n",
        "df['Year'] = df['Year'].astype('int64')\n",
        "df['Month'] = df['Month'].astype('int64')\n",
        "\n",
        "df['New_Month'] = 0\n",
        "df['New_Month'] = np.where(((df['Month']>=5) & (df['Month']<=10)),1,df['New_Month'])\n",
        "\n",
        "\n",
        "import calendar\n",
        "df['weekday'] = 0\n",
        "for ind in df.index:\n",
        "     df['weekday'][ind]= calendar.weekday(df['Year'][ind], df['Month'][ind] , df['Day'][ind])\n",
        "\n",
        "X_test[['Day','Month','Year']] = X_test.Date.str.split(\"/\",expand=True)\n",
        "X_test['Day'] = X_test['Day'].astype('int64')\n",
        "X_test['Year'] = X_test['Year'].astype('int64')\n",
        "X_test['Month'] = X_test['Month'].astype('int64')\n",
        "\n",
        "X_test['New_Month'] = 0\n",
        "X_test['New_Month'] = np.where(((X_test['Month']>=5) & (X_test['Month']<=10)),1,X_test['New_Month'])\n",
        "\n",
        "\n",
        "X_test['weekday'] = 0\n",
        "for ind in X_test.index:\n",
        "     X_test['weekday'][ind]= calendar.weekday(X_test['Year'][ind], X_test['Month'][ind] , X_test['Day'][ind])\n",
        "\n"
      ],
      "execution_count": 13,
      "outputs": [
        {
          "output_type": "stream",
          "name": "stderr",
          "text": [
            "/usr/local/lib/python3.7/dist-packages/ipykernel_launcher.py:16: SettingWithCopyWarning: \n",
            "A value is trying to be set on a copy of a slice from a DataFrame\n",
            "\n",
            "See the caveats in the documentation: https://pandas.pydata.org/pandas-docs/stable/user_guide/indexing.html#returning-a-view-versus-a-copy\n",
            "  app.launch_new_instance()\n",
            "/usr/local/lib/python3.7/dist-packages/ipykernel_launcher.py:29: SettingWithCopyWarning: \n",
            "A value is trying to be set on a copy of a slice from a DataFrame\n",
            "\n",
            "See the caveats in the documentation: https://pandas.pydata.org/pandas-docs/stable/user_guide/indexing.html#returning-a-view-versus-a-copy\n"
          ]
        }
      ]
    },
    {
      "cell_type": "code",
      "metadata": {
        "execution": {
          "iopub.status.busy": "2021-08-28T22:49:08.637206Z",
          "iopub.execute_input": "2021-08-28T22:49:08.637541Z",
          "iopub.status.idle": "2021-08-28T22:49:08.72761Z",
          "shell.execute_reply.started": "2021-08-28T22:49:08.637506Z",
          "shell.execute_reply": "2021-08-28T22:49:08.726774Z"
        },
        "trusted": true,
        "id": "lRBNm6038tC9"
      },
      "source": [
        "df =  pd.get_dummies(df , columns = ['Seasons'] , drop_first = True)\n",
        "\n",
        "df = pd.get_dummies(df , columns = ['Holiday'], drop_first = True)\n",
        "\n",
        "df = pd.get_dummies(df , columns = ['Functioning Day'], drop_first = True)\n",
        "\n",
        "df['Temperature(�C)']=df['Temperature(�C)']+273\n",
        "X_test['Temperature(�C)']=X_test['Temperature(�C)']+273\n",
        "\n",
        "\n",
        "df['Dew point temperature(�C)']=df['Dew point temperature(�C)']+273\n",
        "X_test['Dew point temperature(�C)']=X_test['Dew point temperature(�C)']+273\n",
        "\n",
        "\n",
        "X_test =  pd.get_dummies(X_test , columns = ['Seasons'], drop_first = True)\n",
        "\n",
        "X_test = pd.get_dummies(X_test, columns = ['Holiday'], drop_first = True)\n",
        "\n",
        "X_test = pd.get_dummies(X_test, columns = ['Functioning Day'], drop_first = True)\n",
        "\n",
        "\n",
        "df['Solar_Radiation']= np.log(df['Solar Radiation (MJ/m2)']+1)\n",
        "X_test['Solar_Radiation']= np.log(X_test['Solar Radiation (MJ/m2)']+1)\n",
        "\n",
        "\n",
        "\n",
        "df['is_night'] = 0\n",
        "df.loc[(df['Hour'] < 6) | (df['Hour'] > 20), 'is_night'] = 1\n",
        "\n",
        "X_test['is_night'] = 0\n",
        "X_test.loc[(X_test['Hour'] < 6) | (X_test['Hour'] > 20), 'is_night'] = 1\n",
        "\n",
        "df['HourRange']=0\n",
        "np.where((((df['Hour'] <= 22) | (df['Hour'] >= 17))|(df['Hour']==8)),1,df['HourRange']) \n",
        "\n",
        "\n",
        "\n",
        "X_test['HourRange']=0\n",
        "np.where((((X_test['Hour'] <= 22) | (X_test['Hour'] >= 17))|(X_test['Hour']==8)),1,X_test['HourRange']) \n",
        "\n",
        "df[\"weekend\"] = df[\"weekday\"].apply(lambda x: 1 if  x == 5 or x == 6 else 0 )\n",
        "X_test[\"weekend\"] = X_test[\"weekday\"].apply(lambda x: 1 if  x == 5 or x == 6 else 0 )\n",
        "\n",
        "\n",
        "conditions = [\n",
        "    (df['Visibility (10m)'] >= 0) & (df['Visibility (10m)'] <=500),\n",
        "    (df['Visibility (10m)'] > 500) & (df['Visibility (10m)'] <=1000),\n",
        "    (df['Visibility (10m)'] > 1000) & (df['Visibility (10m)'] <=1500),\n",
        "    (df['Visibility (10m)'] > 1500) & (df['Visibility (10m)'] <=2000)]\n",
        "choices = [4 , 3 , 2 , 1]\n",
        "df['level of risk'] = np.select(conditions, choices, default=0)\n",
        "\n",
        "\n",
        "conditions1 = [\n",
        "    (X_test['Visibility (10m)'] >= 0) & (X_test['Visibility (10m)'] <=500),\n",
        "    (X_test['Visibility (10m)'] > 500) & (X_test['Visibility (10m)'] <=1000),\n",
        "    (X_test['Visibility (10m)'] > 1000) & (X_test['Visibility (10m)'] <=1500),\n",
        "    (X_test['Visibility (10m)'] > 1500) & (X_test['Visibility (10m)'] <=2000)]\n",
        "choices = [4 , 3 , 2 , 1]\n",
        "X_test['level of risk'] = np.select(conditions1, choices, default=0)\n",
        "\n",
        "\n",
        "df[\"day_cos\"] = np.cos((df['Hour']) * (2 * np.pi / 24))\n",
        "df[\"day_sin\"] = np.sin((df['Hour']) * (2 * np.pi / 24))\n",
        "df[\"month_cos\"] = np.cos((df['Month']) * (2 * np.pi / 12))\n",
        "df[\"month_sin\"] = np.sin((df['Month']) * (2 * np.pi / 12))\n",
        "\n",
        "df[\"weekday_sin\"] = np.sin((df['weekday']) * (2 * np.pi / 7))\n",
        "df[\"weekday_cos\"] = np.cos((df['weekday']) * (2 * np.pi / 7))\n",
        "\n",
        "\n",
        "\n",
        "X_test[\"day_cos\"] = np.cos((X_test['Hour']) * (2 * np.pi / 24))\n",
        "X_test[\"day_sin\"] = np.sin((X_test['Hour']) * (2 * np.pi / 24))\n",
        "X_test[\"month_cos\"] = np.cos((X_test['Month']) * (2 * np.pi / 12))\n",
        "X_test[\"month_sin\"] = np.sin((X_test['Month']) * (2 * np.pi / 12))\n",
        "X_test[\"weekday_sin\"] = np.sin((X_test['weekday']) * (2 * np.pi / 7))\n",
        "X_test[\"weekday_cos\"] = np.cos((X_test['weekday']) * (2 * np.pi / 7))\n",
        "\n",
        "\n",
        "\n",
        "\n",
        "\n",
        "df['Rainfall(cm)'] = df['Rainfall(mm)'].apply(lambda x:x/10)\n",
        "df['Rain&snow'] = df['Rainfall(cm)'] * df['Snowfall (cm)']\n",
        "X_test['Rainfall(cm)'] = X_test['Rainfall(mm)'].apply(lambda x:x/10)\n",
        "X_test['Rain&snow'] = X_test['Rainfall(cm)'] * X_test['Snowfall (cm)']\n",
        "\n",
        "\n",
        "\n"
      ],
      "execution_count": 14,
      "outputs": []
    },
    {
      "cell_type": "code",
      "metadata": {
        "execution": {
          "iopub.status.busy": "2021-08-28T22:49:08.729142Z",
          "iopub.execute_input": "2021-08-28T22:49:08.729481Z",
          "iopub.status.idle": "2021-08-28T22:49:08.742362Z",
          "shell.execute_reply.started": "2021-08-28T22:49:08.729444Z",
          "shell.execute_reply": "2021-08-28T22:49:08.741567Z"
        },
        "trusted": true,
        "id": "TVFpVuNm8tC_"
      },
      "source": [
        "from sklearn.model_selection import train_test_split\n",
        "from sklearn.model_selection import KFold\n",
        "\n",
        "train_df, val_df = train_test_split(df, test_size=0.2, random_state=42) # Try adding `stratify` here\n",
        "\n",
        "X_train = train_df.drop(columns=['ID', 'y'])\n",
        "y_train = train_df['y']\n",
        "\n",
        "X_val = val_df.drop(columns=['ID', 'y'])\n",
        "y_val = val_df['y']\n"
      ],
      "execution_count": 15,
      "outputs": []
    },
    {
      "cell_type": "code",
      "metadata": {
        "execution": {
          "iopub.status.busy": "2021-08-28T22:49:08.744011Z",
          "iopub.execute_input": "2021-08-28T22:49:08.744357Z",
          "iopub.status.idle": "2021-08-28T22:49:08.75523Z",
          "shell.execute_reply.started": "2021-08-28T22:49:08.74432Z",
          "shell.execute_reply": "2021-08-28T22:49:08.754436Z"
        },
        "trusted": true,
        "id": "fv6vvC8U8tDA"
      },
      "source": [
        "X_train = X_train [['level of risk','weekday_sin','weekday_cos','day_cos','day_sin','month_cos','month_sin','Month','is_night','weekday','Hour','Temperature(�C)','Humidity(%)', 'Solar_Radiation'  , 'Seasons_Summer','Seasons_Winter','Seasons_Spring' ,'Holiday_No Holiday' , 'Functioning Day_Yes' ,'New_Month','Wind speed (m/s)','Rainfall(mm)','Visibility (10m)']]\n",
        "X_val = X_val [list(X_train.columns)]\n",
        "X_test = X_test[list(X_train.columns)]\n"
      ],
      "execution_count": 16,
      "outputs": []
    },
    {
      "cell_type": "code",
      "metadata": {
        "execution": {
          "iopub.status.busy": "2021-08-28T22:49:08.756677Z",
          "iopub.execute_input": "2021-08-28T22:49:08.757076Z",
          "iopub.status.idle": "2021-08-28T22:49:11.207462Z",
          "shell.execute_reply.started": "2021-08-28T22:49:08.757038Z",
          "shell.execute_reply": "2021-08-28T22:49:11.206532Z"
        },
        "trusted": true,
        "colab": {
          "base_uri": "https://localhost:8080/"
        },
        "id": "k6UVHPJn8tDB",
        "outputId": "f2a500c8-fda5-482d-f98d-0749d777ed0e"
      },
      "source": [
        "RegModel=XGBRegressor(learning_rate = 0.07,\n",
        "                max_depth = 10, alpha = 6, n_estimators = 350)\n",
        "    \n",
        "y_train = np.log(train_df['y']+1)\n",
        "#y_al = np.log(val_df['y']+1)\n",
        "\n",
        "\n",
        "#Fit the trained model\n",
        "RegModel.fit(X_train,y_train)\n",
        "\n",
        "predict= RegModel.predict(X_val)\n",
        "predict=np.exp(predict)\n",
        "\n",
        "train_predict=RegModel.predict(X_train)\n",
        "train_predict=np.exp(train_predict)\n",
        "Error1= np.sqrt(mean_squared_log_error (np.exp(y_train) , train_predict ))\n",
        "print('RMSLE Training:' + str(Error1))\n",
        "\n",
        "\n",
        "predict= RegModel.predict(X_val)\n",
        "predict=np.exp(predict)\n",
        "Error= np.sqrt(mean_squared_log_error (y_val , predict ))\n",
        "print('RMSLE Validation:' + str(Error))\n",
        "\n"
      ],
      "execution_count": 17,
      "outputs": [
        {
          "output_type": "stream",
          "name": "stdout",
          "text": [
            "[10:20:51] WARNING: /workspace/src/objective/regression_obj.cu:152: reg:linear is now deprecated in favor of reg:squarederror.\n",
            "RMSLE Training:0.016775914104677835\n",
            "RMSLE Validation:0.3254471172574085\n"
          ]
        }
      ]
    },
    {
      "cell_type": "code",
      "metadata": {
        "execution": {
          "iopub.status.busy": "2021-08-28T22:49:11.211057Z",
          "iopub.execute_input": "2021-08-28T22:49:11.211324Z",
          "iopub.status.idle": "2021-08-28T22:49:11.234905Z",
          "shell.execute_reply.started": "2021-08-28T22:49:11.211298Z",
          "shell.execute_reply": "2021-08-28T22:49:11.234117Z"
        },
        "trusted": true,
        "id": "5G28d7C18tDB"
      },
      "source": [
        "y_test_predicted = RegModel.predict(X_test)\n",
        "\n",
        "\n",
        "y_test_predicted=np.exp(y_test_predicted)"
      ],
      "execution_count": 18,
      "outputs": []
    },
    {
      "cell_type": "code",
      "metadata": {
        "execution": {
          "iopub.status.busy": "2021-08-28T22:49:11.237751Z",
          "iopub.execute_input": "2021-08-28T22:49:11.238006Z",
          "iopub.status.idle": "2021-08-28T22:49:11.244457Z",
          "shell.execute_reply.started": "2021-08-28T22:49:11.23798Z",
          "shell.execute_reply": "2021-08-28T22:49:11.243668Z"
        },
        "trusted": true,
        "id": "gwUm_O9Y8tDC"
      },
      "source": [
        "# You should update/remove the next line once you change the features used for trainin\n",
        "\n",
        "test_df['y'] = y_test_predicted.astype(int)\n",
        "\n"
      ],
      "execution_count": 19,
      "outputs": []
    },
    {
      "cell_type": "code",
      "metadata": {
        "execution": {
          "iopub.status.busy": "2021-08-28T22:49:11.248703Z",
          "iopub.execute_input": "2021-08-28T22:49:11.249041Z",
          "iopub.status.idle": "2021-08-28T22:49:11.260526Z",
          "shell.execute_reply.started": "2021-08-28T22:49:11.249013Z",
          "shell.execute_reply": "2021-08-28T22:49:11.259639Z"
        },
        "trusted": true,
        "id": "MMFvuCvj8tDD"
      },
      "source": [
        "test_df[['ID', 'y']].to_csv('submission.csv', index=False)\n"
      ],
      "execution_count": 20,
      "outputs": []
    },
    {
      "cell_type": "code",
      "metadata": {
        "id": "u5Ck-5Jt8tDD"
      },
      "source": [
        ""
      ],
      "execution_count": 20,
      "outputs": []
    },
    {
      "cell_type": "code",
      "metadata": {
        "id": "nkaxPOc28tDD"
      },
      "source": [
        ""
      ],
      "execution_count": 20,
      "outputs": []
    }
  ]
}